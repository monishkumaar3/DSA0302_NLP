{
  "nbformat": 4,
  "nbformat_minor": 0,
  "metadata": {
    "colab": {
      "provenance": [],
      "authorship_tag": "ABX9TyNOAtfR61JXz66eCdxm9PTA",
      "include_colab_link": true
    },
    "kernelspec": {
      "name": "python3",
      "display_name": "Python 3"
    },
    "language_info": {
      "name": "python"
    }
  },
  "cells": [
    {
      "cell_type": "markdown",
      "metadata": {
        "id": "view-in-github",
        "colab_type": "text"
      },
      "source": [
        "<a href=\"https://colab.research.google.com/github/monishkumaar3/DSA0302_NLP/blob/main/brill_tagger.ipynb\" target=\"_parent\"><img src=\"https://colab.research.google.com/assets/colab-badge.svg\" alt=\"Open In Colab\"/></a>"
      ]
    },
    {
      "cell_type": "code",
      "execution_count": null,
      "metadata": {
        "colab": {
          "base_uri": "https://localhost:8080/"
        },
        "id": "riwoo6cKMaH2",
        "outputId": "8d2ed0ff-76c6-4278-c5ab-dcd3fbfe7149"
      },
      "outputs": [
        {
          "output_type": "stream",
          "name": "stderr",
          "text": [
            "[nltk_data] Downloading package punkt to /root/nltk_data...\n",
            "[nltk_data]   Package punkt is already up-to-date!\n"
          ]
        }
      ],
      "source": [
        "import nltk\n",
        "nltk.download('punkt')\n",
        "from nltk.corpus import wordnet\n"
      ]
    },
    {
      "cell_type": "code",
      "source": [
        "word_classes=['noun','verb','adjective','adverb','open','closed']\n",
        "pos_tags={'n':'NN','v':'vb','a':'jj','r':'rb','u':'uh'}\n"
      ],
      "metadata": {
        "id": "7W7fjRiBQ2vv"
      },
      "execution_count": null,
      "outputs": []
    },
    {
      "cell_type": "code",
      "source": [
        "def tag_word(word):\n",
        "  synsets=wordnet.synsets(word)\n",
        "  if synsets:\n",
        "    pos_tag=pos_tag[synsets[0].pos()[0]]\n",
        "    return word,pos_tag\n",
        "  else:\n",
        "    return word,None"
      ],
      "metadata": {
        "id": "u9K5mJVXQ3Db"
      },
      "execution_count": null,
      "outputs": []
    },
    {
      "cell_type": "code",
      "source": [
        "def tag_sentence(sentence):\n",
        "  tokens=nltk.word_tokenize(sentence)\n",
        "  tagged_words=[tag_word(token)for token in token]\n",
        "  return tagged_words"
      ],
      "metadata": {
        "id": "-nrkRNKAQ3UW"
      },
      "execution_count": null,
      "outputs": []
    },
    {
      "cell_type": "code",
      "source": [
        "def print_tagged_sentence(tagged_sentence):\n",
        "  for word ,pos_tag in tagged_sentence:\n",
        "    if pos_tag:\n",
        "      print(f'{word}/<Not found>')\n",
        "import nltk\n",
        "nltk.download(\"averaged_perceptron_tagger\")\n",
        "sentence =\"the quick brown fox jumps over the lazy dog\"\n",
        "\n",
        "tagged_sentence=nltk.pos_tag(nltk.word_tokenize(sentence))\n",
        "for word,tag in tagged_sentence:\n",
        "  print(f'{word}/{tag}')"
      ],
      "metadata": {
        "colab": {
          "base_uri": "https://localhost:8080/"
        },
        "id": "CbPI0eFzQ3tX",
        "outputId": "23db10b5-c444-4a50-817d-c73ee0d04b8d"
      },
      "execution_count": null,
      "outputs": [
        {
          "output_type": "stream",
          "name": "stdout",
          "text": [
            "the/DT\n",
            "quick/JJ\n",
            "brown/NN\n",
            "fox/NN\n",
            "jumps/VBZ\n",
            "over/IN\n",
            "the/DT\n",
            "lazy/JJ\n",
            "dog/NN\n"
          ]
        },
        {
          "output_type": "stream",
          "name": "stderr",
          "text": [
            "[nltk_data] Downloading package averaged_perceptron_tagger to\n",
            "[nltk_data]     /root/nltk_data...\n",
            "[nltk_data]   Package averaged_perceptron_tagger is already up-to-\n",
            "[nltk_data]       date!\n"
          ]
        }
      ]
    }
  ]
}