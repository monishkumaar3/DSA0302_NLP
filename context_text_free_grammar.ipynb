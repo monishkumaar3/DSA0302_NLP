{
  "nbformat": 4,
  "nbformat_minor": 0,
  "metadata": {
    "colab": {
      "provenance": [],
      "authorship_tag": "ABX9TyO9ci0mTCc8/CulsS41+K1H",
      "include_colab_link": true
    },
    "kernelspec": {
      "name": "python3",
      "display_name": "Python 3"
    },
    "language_info": {
      "name": "python"
    }
  },
  "cells": [
    {
      "cell_type": "markdown",
      "metadata": {
        "id": "view-in-github",
        "colab_type": "text"
      },
      "source": [
        "<a href=\"https://colab.research.google.com/github/monishkumaar3/DSA0302_NLP/blob/main/context_text_free_grammar.ipynb\" target=\"_parent\"><img src=\"https://colab.research.google.com/assets/colab-badge.svg\" alt=\"Open In Colab\"/></a>"
      ]
    },
    {
      "cell_type": "code",
      "execution_count": null,
      "metadata": {
        "id": "JIN1riM_TXHa"
      },
      "outputs": [],
      "source": [
        "import nltk\n",
        "from nltk.parse import generate\n",
        "from nltk import CFG\n",
        "\n",
        "grammar = CFG.fromstring(\"\"\"\n",
        "s -> NP VP\n",
        "NP -> pronoun | determiner noun\n",
        "VP -> verb | verb NP | verb NP conjunction VP | verb PP\n",
        "PP -> preposition NP\n",
        "verb -> 'ran'\n",
        "pronoun -> 'she'\n",
        "noun -> 'store'\n",
        "determiner -> 'the'\n",
        "conjunction -> 'and'\n",
        "preposition -> 'to'\n",
        "adjective -> 'quickly' | 'silently'\n",
        "\"\"\")\n",
        "\n",
        "parser = nltk.ChartParser(grammar)\n",
        "\n",
        "sentence = \"she quickly and silently ran to the store\"\n",
        "tokens = sentence.split()\n",
        "\n",
        "# Generate and print all possible parse trees for the sentence.\n",
        "for tree in parser.parse(tokens):\n",
        "    tree.pretty_print()\n"
      ]
    }
  ]
}