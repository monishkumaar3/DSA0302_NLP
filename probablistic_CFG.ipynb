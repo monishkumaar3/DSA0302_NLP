{
  "nbformat": 4,
  "nbformat_minor": 0,
  "metadata": {
    "colab": {
      "provenance": [],
      "authorship_tag": "ABX9TyOd2z9r+Npxu/d5ftJmk8Bb",
      "include_colab_link": true
    },
    "kernelspec": {
      "name": "python3",
      "display_name": "Python 3"
    },
    "language_info": {
      "name": "python"
    }
  },
  "cells": [
    {
      "cell_type": "markdown",
      "metadata": {
        "id": "view-in-github",
        "colab_type": "text"
      },
      "source": [
        "<a href=\"https://colab.research.google.com/github/monishkumaar3/DSA0302_NLP/blob/main/probablistic_CFG.ipynb\" target=\"_parent\"><img src=\"https://colab.research.google.com/assets/colab-badge.svg\" alt=\"Open In Colab\"/></a>"
      ]
    },
    {
      "cell_type": "code",
      "execution_count": 3,
      "metadata": {
        "colab": {
          "base_uri": "https://localhost:8080/"
        },
        "id": "1_sb-tF9W5mN",
        "outputId": "cc1168d1-183e-4901-e3f1-9c9fa4bed7f0"
      },
      "outputs": [
        {
          "output_type": "stream",
          "name": "stdout",
          "text": [
            "                    s                          \n",
            "      ______________|_______                    \n",
            "     |                      vp                 \n",
            "     |               _______|________           \n",
            "     |              vp               pp        \n",
            "     |         _____|___         ____|___       \n",
            "     np       |         np      |        np    \n",
            "  ___|___     |      ___|___    |     ___|___   \n",
            "det      n    v    det      n   p   det      n \n",
            " |       |    |     |       |   |    |       |  \n",
            "the     cat chased the     dog with  a      bat\n",
            "\n",
            "pcfg output: 1.333584e-05\n"
          ]
        }
      ],
      "source": [
        "import nltk\n",
        "from nltk import PCFG\n",
        "from nltk.parse import ViterbiParser\n",
        "\n",
        "pcfg_grammar = PCFG.fromstring(\"\"\"\n",
        "s -> np vp [1.0]\n",
        "np -> det n [0.7] | pronoun [0.3]\n",
        "vp -> v np [0.9] | vp pp [0.1]\n",
        "pp -> p np [1.0]\n",
        "det -> 'the' [0.4] | 'a' [0.3] | 'an' [0.3]\n",
        "n -> 'cat' [0.2] | 'dog' [0.3] | 'bat' [0.5]\n",
        "pronoun -> 'i' [0.4] | 'you' [0.3] | 'he' [0.2] | 'she' [0.1]\n",
        "v -> 'chased' [0.5] | 'saw' [0.5]\n",
        "p -> 'with' [0.6] | 'in' [0.4]\n",
        "\"\"\")\n",
        "\n",
        "parser = ViterbiParser(pcfg_grammar)\n",
        "\n",
        "sentence = \"the cat chased the dog with a bat\"\n",
        "\n",
        "tokens = sentence.split()\n",
        "parsed_trees = list(parser.parse(tokens))\n",
        "\n",
        "for tree in parsed_trees:\n",
        "    tree.pretty_print()\n",
        "\n",
        "most_likely_parse = parsed_trees[0]\n",
        "\n",
        "print(\"pcfg output:\", most_likely_parse.prob())\n"
      ]
    }
  ]
}