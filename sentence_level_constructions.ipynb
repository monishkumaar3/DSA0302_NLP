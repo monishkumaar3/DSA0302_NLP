{
  "nbformat": 4,
  "nbformat_minor": 0,
  "metadata": {
    "colab": {
      "provenance": [],
      "authorship_tag": "ABX9TyPx99eS9KPNTGCBj3SYTxA1",
      "include_colab_link": true
    },
    "kernelspec": {
      "name": "python3",
      "display_name": "Python 3"
    },
    "language_info": {
      "name": "python"
    }
  },
  "cells": [
    {
      "cell_type": "markdown",
      "metadata": {
        "id": "view-in-github",
        "colab_type": "text"
      },
      "source": [
        "<a href=\"https://colab.research.google.com/github/monishkumaar3/DSA0302_NLP/blob/main/sentence_level_constructions.ipynb\" target=\"_parent\"><img src=\"https://colab.research.google.com/assets/colab-badge.svg\" alt=\"Open In Colab\"/></a>"
      ]
    },
    {
      "cell_type": "code",
      "source": [
        "pip install --upgrade nltk\n"
      ],
      "metadata": {
        "colab": {
          "base_uri": "https://localhost:8080/"
        },
        "id": "0aY0xn1Y-Yz-",
        "outputId": "bb61fbea-a547-4ec1-c357-fa0f74718cb0"
      },
      "execution_count": null,
      "outputs": [
        {
          "output_type": "stream",
          "name": "stdout",
          "text": [
            "Requirement already satisfied: nltk in /usr/local/lib/python3.10/dist-packages (3.8.1)\n",
            "Requirement already satisfied: click in /usr/local/lib/python3.10/dist-packages (from nltk) (8.1.7)\n",
            "Requirement already satisfied: joblib in /usr/local/lib/python3.10/dist-packages (from nltk) (1.3.2)\n",
            "Requirement already satisfied: regex>=2021.8.3 in /usr/local/lib/python3.10/dist-packages (from nltk) (2023.6.3)\n",
            "Requirement already satisfied: tqdm in /usr/local/lib/python3.10/dist-packages (from nltk) (4.66.1)\n"
          ]
        }
      ]
    },
    {
      "cell_type": "code",
      "source": [
        "import spacy\n",
        "nlp=spacy.load(\"en_core_web_sm\")\n",
        "sentence=\"the cat on the roof,purring softly,which belongs to my neighbour caught a mouse\""
      ],
      "metadata": {
        "id": "tOeX2fkXCp1E"
      },
      "execution_count": null,
      "outputs": []
    },
    {
      "cell_type": "code",
      "source": [
        "doc=nlp(sentence)\n",
        "for token in doc:\n",
        "  print(f\"token:{token.text},lemma,{token.lemma_},pos:{token.pos_}\")\n",
        "  prepositional_phrase=[chunk.text for chunk in doc .noun_chunks if \"on\" in [token.text for token in chunk]]"
      ],
      "metadata": {
        "colab": {
          "base_uri": "https://localhost:8080/"
        },
        "id": "H-ATwNRCDL1k",
        "outputId": "3822286b-9638-46d4-c3cc-ed8c9e892c6b"
      },
      "execution_count": null,
      "outputs": [
        {
          "output_type": "stream",
          "name": "stdout",
          "text": [
            "token:the,lemma,the,pos:DET\n",
            "token:cat,lemma,cat,pos:NOUN\n",
            "token:on,lemma,on,pos:ADP\n",
            "token:the,lemma,the,pos:DET\n",
            "token:roof,lemma,roof,pos:NOUN\n",
            "token:,,lemma,,,pos:PUNCT\n",
            "token:purring,lemma,purr,pos:VERB\n",
            "token:softly,lemma,softly,pos:ADV\n",
            "token:,,lemma,,,pos:PUNCT\n",
            "token:which,lemma,which,pos:PRON\n",
            "token:belongs,lemma,belong,pos:VERB\n",
            "token:to,lemma,to,pos:ADP\n",
            "token:my,lemma,my,pos:PRON\n",
            "token:neighbour,lemma,neighbour,pos:NOUN\n",
            "token:caught,lemma,catch,pos:VERB\n",
            "token:a,lemma,a,pos:DET\n",
            "token:mouse,lemma,mouse,pos:NOUN\n"
          ]
        }
      ]
    },
    {
      "cell_type": "code",
      "source": [
        "prepositional_phrase = \"This is a prepositional phrase\"\n",
        "gerundive_phrase = [\"running\", \"jumping\", \"swimming\"]\n",
        "infinitive_clause = [\"to run\", \"to jump\", \"to swim\"]\n",
        "relative_clauses = [\"who\", \"which\", \"that\"]\n",
        "\n",
        "print(\"\\n prepositional phrase :\", prepositional_phrase)\n",
        "print(\"\\n gerundive:\", gerundive_phrase)\n",
        "print(\"\\n non-finite clauses (infinitive clauses):\", infinitive_clause)\n",
        "print(\"\\n relative clauses:\", relative_clauses)\n"
      ],
      "metadata": {
        "id": "5_o-Z7qvET3o",
        "colab": {
          "base_uri": "https://localhost:8080/"
        },
        "outputId": "efdf70e3-2e0e-49ed-a122-433cfb34d004"
      },
      "execution_count": 5,
      "outputs": [
        {
          "output_type": "stream",
          "name": "stdout",
          "text": [
            "\n",
            " prepositional phrase : This is a prepositional phrase\n",
            "\n",
            " gerundive: ['running', 'jumping', 'swimming']\n",
            "\n",
            " non-finite clauses (infinitive clauses): ['to run', 'to jump', 'to swim']\n",
            "\n",
            " relative clauses: ['who', 'which', 'that']\n"
          ]
        }
      ]
    }
  ]
}