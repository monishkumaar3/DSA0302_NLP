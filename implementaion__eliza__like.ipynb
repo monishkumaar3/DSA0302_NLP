{
  "cells": [
    {
      "cell_type": "markdown",
      "metadata": {
        "id": "view-in-github",
        "colab_type": "text"
      },
      "source": [
        "<a href=\"https://colab.research.google.com/github/monishkumaar3/DSA0302_NLP/blob/main/implementaion__eliza__like.ipynb\" target=\"_parent\"><img src=\"https://colab.research.google.com/assets/colab-badge.svg\" alt=\"Open In Colab\"/></a>"
      ]
    },
    {
      "cell_type": "code",
      "execution_count": null,
      "metadata": {
        "id": "b97NP6AVmd-t"
      },
      "outputs": [],
      "source": [
        "import random\n",
        "\n",
        "patterns = [\n",
        "    (r'(.)computer(.)', ['have you tried turning it off and on again?', 'tell me more about your computer issue.']),\n",
        "    (r'(.)internet(.)', ['have you checked your wifi connection?', 'is your internet service provider having issue?', 'please describe the internet problem in more detail']),\n",
        "    (r'(.)help(.)', ['I am here to help, what do you need assistance with?', 'feel free to ask me anything.']),\n",
        "    (r'(.*)', ['could you please elaborate on that?', 'tell me more', 'I see, please go on.']),\n",
        "]\n"
      ]
    },
    {
      "cell_type": "code",
      "execution_count": null,
      "metadata": {
        "colab": {
          "background_save": true,
          "base_uri": "https://localhost:8080/"
        },
        "id": "9gB7BX9FqB2y",
        "outputId": "8e28c689-b657-4559-82b0-efe595c8d05a"
      },
      "outputs": [
        {
          "name": "stdout",
          "output_type": "stream",
          "text": [
            "tech support bot : hi, how can I assist you today?\n"
          ]
        }
      ],
      "source": [
        "def respond(input_text):\n",
        "    for pattern, responses in patterns:\n",
        "        match = re.match(pattern, input_text.lower())\n",
        "        if match:\n",
        "            response = random.choice(responses)\n",
        "            return response\n",
        "    return \"I'm sorry, I don't understand. Can you rephrase your question?\"\n",
        "\n",
        "print(\"tech support bot : hi, how can I assist you today?\")\n",
        "while True:\n",
        "    user_input = input(\"you:\")\n",
        "    if user_input.lower() == 'exit':\n",
        "        print(\"tech support bot: Goodbye!\")\n",
        "        break\n",
        "    response = respond(user_input)\n",
        "    print(\"tech support bot:\", response)"
      ]
    }
  ],
  "metadata": {
    "colab": {
      "provenance": [],
      "authorship_tag": "ABX9TyNzkrjrLQHkfcQdcbK4+boz",
      "include_colab_link": true
    },
    "kernelspec": {
      "display_name": "Python 3",
      "name": "python3"
    },
    "language_info": {
      "name": "python"
    }
  },
  "nbformat": 4,
  "nbformat_minor": 0
}